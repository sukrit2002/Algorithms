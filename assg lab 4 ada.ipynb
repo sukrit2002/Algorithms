{
 "cells": [
  {
   "cell_type": "code",
   "execution_count": 1,
   "metadata": {},
   "outputs": [],
   "source": [
    "def SortedInsert(s,element):\n",
    "    if len(s)==0 or element>s[-1]:\n",
    "        s.append(element)\n",
    "        return\n",
    "    else:\n",
    "        temp=s.pop()\n",
    "        SortedInsert(s,element)\n",
    "        s.append(temp)\n",
    "    \n",
    "def sortStack(s):\n",
    "    if len(s)!=0:\n",
    "        temp=s.pop()\n",
    "        sortStack(s)\n",
    "        SortedInsert(s,temp)\n",
    "def PrintStack(s):\n",
    "    for i in s[::-1]:\n",
    "        print(i,end=\" \")\n",
    "        print()"
   ]
  },
  {
   "cell_type": "code",
   "execution_count": 2,
   "metadata": {},
   "outputs": [
    {
     "name": "stdout",
     "output_type": "stream",
     "text": [
      "Enter no. of elements:5\n",
      "4\n",
      "6\n",
      "89\n",
      "6\n",
      "1\n",
      "Stack elements before sorting\n",
      "1 \n",
      "6 \n",
      "89 \n",
      "6 \n",
      "4 \n",
      "Stack elements after sorting\n",
      "89 \n",
      "6 \n",
      "6 \n",
      "4 \n",
      "1 \n"
     ]
    }
   ],
   "source": [
    "if __name__=='__main__':\n",
    "    s=[]\n",
    "    n=int(input(\"Enter no. of elements\"))\n",
    "    for i in range(n):\n",
    "        tem=int(input())\n",
    "        s.append(tem)\n",
    "    print(\"Stack elements before sorting\")\n",
    "    PrintStack(s)\n",
    "    sortStack(s)\n",
    "    print(\"Stack elements after sorting\")\n",
    "    PrintStack(s)"
   ]
  },
  {
   "cell_type": "code",
   "execution_count": null,
   "metadata": {},
   "outputs": [],
   "source": []
  }
 ],
 "metadata": {
  "kernelspec": {
   "display_name": "Python 3",
   "language": "python",
   "name": "python3"
  },
  "language_info": {
   "codemirror_mode": {
    "name": "ipython",
    "version": 3
   },
   "file_extension": ".py",
   "mimetype": "text/x-python",
   "name": "python",
   "nbconvert_exporter": "python",
   "pygments_lexer": "ipython3",
   "version": "3.7.3"
  }
 },
 "nbformat": 4,
 "nbformat_minor": 2
}
