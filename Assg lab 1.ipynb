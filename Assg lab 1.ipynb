{
 "cells": [
  {
   "cell_type": "code",
   "execution_count": 17,
   "metadata": {},
   "outputs": [],
   "source": [
    "def countr(n):\n",
    "    if n==1:\n",
    "        return 1\n",
    "    if n==2:\n",
    "        return 2\n",
    "    if n==3:\n",
    "        return 4\n",
    "    return countr(n-1)+countr(n-2)+countr(n-3)\n"
   ]
  },
  {
   "cell_type": "code",
   "execution_count": 18,
   "metadata": {},
   "outputs": [
    {
     "name": "stdout",
     "output_type": "stream",
     "text": [
      "4\n",
      "7\n"
     ]
    }
   ],
   "source": [
    "n=int(input())\n",
    "print(countr(n))"
   ]
  },
  {
   "cell_type": "code",
   "execution_count": null,
   "metadata": {},
   "outputs": [],
   "source": [
    "def CountBricks(k):\n",
    "    for i in range()\n",
    "    int k = 0;\n",
    "    for(int i = 0; i++){\n",
    "        if(k>=n){\n",
    "            cout<<motu;\n",
    "        }\n",
    "        k+=i;\n",
    "        if(k>=n){\n",
    "            cout<<ppatlu;\n",
    "        }\n",
    "        k+=i*2\n",
    "    }"
   ]
  },
  {
   "cell_type": "code",
   "execution_count": 24,
   "metadata": {},
   "outputs": [],
   "source": [
    "def CountBricks(n):\n",
    "    for i in range(10000):\n",
    "        k=0\n",
    "        if k>=n:\n",
    "            return \"Patlu\"\n",
    "        k=k+i\n",
    "        if k>=n:\n",
    "            return \"Motu\"\n",
    "        k=k+i*2\n",
    "            "
   ]
  },
  {
   "cell_type": "code",
   "execution_count": 25,
   "metadata": {},
   "outputs": [
    {
     "name": "stdout",
     "output_type": "stream",
     "text": [
      "13\n",
      "Motu\n"
     ]
    }
   ],
   "source": [
    "n=int(input())\n",
    "print(CountBricks(n))"
   ]
  },
  {
   "cell_type": "code",
   "execution_count": null,
   "metadata": {},
   "outputs": [],
   "source": []
  }
 ],
 "metadata": {
  "kernelspec": {
   "display_name": "Python 3",
   "language": "python",
   "name": "python3"
  },
  "language_info": {
   "codemirror_mode": {
    "name": "ipython",
    "version": 3
   },
   "file_extension": ".py",
   "mimetype": "text/x-python",
   "name": "python",
   "nbconvert_exporter": "python",
   "pygments_lexer": "ipython3",
   "version": "3.7.3"
  }
 },
 "nbformat": 4,
 "nbformat_minor": 2
}
