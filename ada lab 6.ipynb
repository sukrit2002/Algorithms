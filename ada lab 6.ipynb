{
 "cells": [
  {
   "cell_type": "code",
   "execution_count": null,
   "metadata": {},
   "outputs": [],
   "source": [
    "def search(mat,n,x):\n",
    "    if n==0:\n",
    "        return -1\n",
    "    i=0\n",
    "    j=n-1\n",
    "    while(i<n and j>=0):\n",
    "        if mat[i][j]>x:\n",
    "            j=j-1\n",
    "        elif mat[i][j]<x:\n",
    "            i=i+1\n",
    "        elif mat[i][j]==x:\n",
    "            print(\"Element is found at position\", \"(\",i,\",\",j,\")\")\n",
    "            j=j-1\n",
    "            i=i+1\n",
    "            \n",
    "    return "
   ]
  },
  {
   "cell_type": "code",
   "execution_count": null,
   "metadata": {},
   "outputs": [],
   "source": [
    "k=int(input(\"No. of rows: \"))\n",
    "g=int(input(\"No. of columns: \"))\n",
    "for i in range(k):\n",
    "    for j in range(g):\n",
    "        mat[i][j]=int(input())\n",
    "search(mat,4,3)"
   ]
  },
  {
   "cell_type": "code",
   "execution_count": null,
   "metadata": {},
   "outputs": [],
   "source": []
  }
 ],
 "metadata": {
  "kernelspec": {
   "display_name": "Python 3",
   "language": "python",
   "name": "python3"
  },
  "language_info": {
   "codemirror_mode": {
    "name": "ipython",
    "version": 3
   },
   "file_extension": ".py",
   "mimetype": "text/x-python",
   "name": "python",
   "nbconvert_exporter": "python",
   "pygments_lexer": "ipython3",
   "version": "3.7.3"
  }
 },
 "nbformat": 4,
 "nbformat_minor": 2
}
